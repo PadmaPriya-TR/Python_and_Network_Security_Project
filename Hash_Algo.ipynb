{
 "cells": [
  {
   "cell_type": "markdown",
   "id": "357b6ac9",
   "metadata": {},
   "source": [
    "# Generate hash of string using 3 algorithms from hashlib"
   ]
  },
  {
   "cell_type": "markdown",
   "id": "038ea0aa",
   "metadata": {},
   "source": [
    "# sha256"
   ]
  },
  {
   "cell_type": "code",
   "execution_count": 1,
   "id": "c32f4677",
   "metadata": {},
   "outputs": [
    {
     "name": "stdout",
     "output_type": "stream",
     "text": [
      "Enter the text: PadmaPriya\n",
      "Hashed String: 5a8d7a32b7af664f186f8deb9ae4b77ba807898a6356790c511910faeba8a2e6\n"
     ]
    }
   ],
   "source": [
    "import hashlib\n",
    "text=input(\"Enter the text: \")\n",
    "hashing=hashlib.sha256(text.encode(\"utf-8\"))\n",
    "hexd=hashing.hexdigest()\n",
    "print((\"Hashed String: \")+(hexd))"
   ]
  },
  {
   "cell_type": "markdown",
   "id": "8e9e3519",
   "metadata": {},
   "source": [
    "# sha224"
   ]
  },
  {
   "cell_type": "code",
   "execution_count": 2,
   "id": "9023ea48",
   "metadata": {},
   "outputs": [
    {
     "name": "stdout",
     "output_type": "stream",
     "text": [
      "Enter the text: PadmaPriya\n",
      "Hashed String: ee11e06e245fe476804ffbe5f46ba80bdb9482ee83b4780d751570bd\n"
     ]
    }
   ],
   "source": [
    "import hashlib\n",
    "text=input(\"Enter the text: \")\n",
    "hashing=hashlib.sha224(text.encode(\"utf-8\"))\n",
    "hexd=hashing.hexdigest()\n",
    "print((\"Hashed String: \")+(hexd))"
   ]
  },
  {
   "cell_type": "markdown",
   "id": "25ce6712",
   "metadata": {},
   "source": [
    "# sha512"
   ]
  },
  {
   "cell_type": "code",
   "execution_count": 3,
   "id": "7281cfa3",
   "metadata": {},
   "outputs": [
    {
     "name": "stdout",
     "output_type": "stream",
     "text": [
      "Enter the text: PadmaPriya\n",
      "Hashed String: 21aa34931838db4acef7be09c854d4bd4d0be3b6e013fe24011920b321136b5d70ade273865ff41a514cb5464d35f6128512854b813f126736a6787b3fcd1b18\n"
     ]
    }
   ],
   "source": [
    "import hashlib\n",
    "text=input(\"Enter the text: \")\n",
    "hashing=hashlib.sha512(text.encode(\"utf-8\"))\n",
    "hexd=hashing.hexdigest()\n",
    "print((\"Hashed String: \")+(hexd))"
   ]
  }
 ],
 "metadata": {
  "kernelspec": {
   "display_name": "Python 3",
   "language": "python",
   "name": "python3"
  },
  "language_info": {
   "codemirror_mode": {
    "name": "ipython",
    "version": 3
   },
   "file_extension": ".py",
   "mimetype": "text/x-python",
   "name": "python",
   "nbconvert_exporter": "python",
   "pygments_lexer": "ipython3",
   "version": "3.9.5"
  }
 },
 "nbformat": 4,
 "nbformat_minor": 5
}
