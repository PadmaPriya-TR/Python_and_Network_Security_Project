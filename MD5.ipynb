{
 "cells": [
  {
   "cell_type": "markdown",
   "id": "9ffb5255",
   "metadata": {},
   "source": [
    "# Python Program to Generate MD5 of string data"
   ]
  },
  {
   "cell_type": "code",
   "execution_count": 1,
   "id": "ffba9de8",
   "metadata": {},
   "outputs": [
    {
     "name": "stdout",
     "output_type": "stream",
     "text": [
      "Enter the String: PadmaPriya\n",
      "Hashed String: 45e8b4a1fd547feb339e17aa42801bb2\n"
     ]
    }
   ],
   "source": [
    "import hashlib\n",
    "string=input(\"Enter the String: \")\n",
    "hashing=hashlib.md5(string.encode(\"utf-8\"))\n",
    "hexd=hashing.hexdigest()\n",
    "print((\"Hashed String: \")+(hexd))"
   ]
  }
 ],
 "metadata": {
  "kernelspec": {
   "display_name": "Python 3",
   "language": "python",
   "name": "python3"
  },
  "language_info": {
   "codemirror_mode": {
    "name": "ipython",
    "version": 3
   },
   "file_extension": ".py",
   "mimetype": "text/x-python",
   "name": "python",
   "nbconvert_exporter": "python",
   "pygments_lexer": "ipython3",
   "version": "3.9.5"
  }
 },
 "nbformat": 4,
 "nbformat_minor": 5
}
