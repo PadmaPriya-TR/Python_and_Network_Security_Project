{
 "cells": [
  {
   "cell_type": "markdown",
   "id": "efaeb832",
   "metadata": {},
   "source": [
    "# Add Salting to hashes"
   ]
  },
  {
   "cell_type": "code",
   "execution_count": 1,
   "id": "8d7980e2",
   "metadata": {},
   "outputs": [
    {
     "name": "stdout",
     "output_type": "stream",
     "text": [
      "Enter the text: PadmaPriya\n",
      "Hashed String: 45e8b4a1fd547feb339e17aa42801bb2\n",
      "Hash after adding salt:  uguGUTFkh45e8b4a1fd547feb339e17aa42801bb2fDYkligkhb\n"
     ]
    }
   ],
   "source": [
    "#Method 1\n",
    "import hashlib\n",
    "import random\n",
    "text=input(\"Enter the text: \")\n",
    "hashing=hashlib.md5(text.encode(\"utf-8\"))\n",
    "hexd=hashing.hexdigest()\n",
    "print((\"Hashed String: \")+(hexd))\n",
    "salts=[\"zujJAGvjbA\",\"KHjhvjhJHBH\",\"jshduYTkjsdgh\",\"gbszkjdgsh\",\"kjdhughjs\",\"hzyoausikJ\",\"jzgsiyatiuhol\",\"gduygsughjsb\",\"gdugasuygcauy\",\"awdyQGHKBSHBK\",\"fDYkligkhb\"]\n",
    "salts1=[\"kjsufgaDTFG\",\"skhdiydgakyf\",\"FYkihsaigkiyag\",\"uguGUTFkh\",\"kjkhgSEukhh\",\"JFHufytfg\"]\n",
    "sh=(random.choice(salts))\n",
    "sh1=(random.choice(salts1))\n",
    "new_hash=sh1+hexd+sh\n",
    "print(\"Hash after adding salt: \",new_hash)"
   ]
  },
  {
   "cell_type": "code",
   "execution_count": 2,
   "id": "3cd5aef8",
   "metadata": {},
   "outputs": [
    {
     "name": "stdout",
     "output_type": "stream",
     "text": [
      "Enter the text: PadmaPriya\n",
      "After Salting:  kjkhgSEukhhPadmaPriyagdugasuygcauy\n",
      "Hashed String: e417076480414c2730fffd53579b9569\n"
     ]
    }
   ],
   "source": [
    "#Method 2\n",
    "import hashlib\n",
    "import random\n",
    "text=input(\"Enter the text: \")\n",
    "salts=[\"zujJAGvjbA\",\"KHjhvjhJHBH\",\"jshduYTkjsdgh\",\"gbszkjdgsh\",\"kjdhughjs\",\"hzyoausikJ\",\"jzgsiyatiuhol\",\"gduygsughjsb\",\"gdugasuygcauy\",\"awdyQGHKBSHBK\",\"fDYkligkhb\"]\n",
    "salts1=[\"kjsufgaDTFG\",\"skhdiydgakyf\",\"FYkihsaigkiyag\",\"uguGUTFkh\",\"kjkhgSEukhh\",\"JFHufytfg\"]\n",
    "sh=(random.choice(salts))\n",
    "sh1=(random.choice(salts1))\n",
    "salt_text=sh1+text+sh\n",
    "print(\"After Salting: \",salt_text)\n",
    "hashing=hashlib.md5(salt_text.encode(\"utf-8\"))\n",
    "hexd=hashing.hexdigest()\n",
    "print((\"Hashed String: \")+(hexd))"
   ]
  }
 ],
 "metadata": {
  "kernelspec": {
   "display_name": "Python 3",
   "language": "python",
   "name": "python3"
  },
  "language_info": {
   "codemirror_mode": {
    "name": "ipython",
    "version": 3
   },
   "file_extension": ".py",
   "mimetype": "text/x-python",
   "name": "python",
   "nbconvert_exporter": "python",
   "pygments_lexer": "ipython3",
   "version": "3.9.5"
  }
 },
 "nbformat": 4,
 "nbformat_minor": 5
}
